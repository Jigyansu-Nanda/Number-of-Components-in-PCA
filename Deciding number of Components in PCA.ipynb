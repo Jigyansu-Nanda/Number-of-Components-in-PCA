{
 "cells": [
  {
   "cell_type": "markdown",
   "metadata": {},
   "source": [
    "# Deciding number of Components in PCA (using Explained Variance)\n",
    "Prior to getting into **deciding number of components in PCA** after Dimensionality Reduction, below is a brief summary of **Principal Component Analysis** approach.\n",
    "\n",
    "## Principal Component Analysis\n",
    "Say, we have a d-dimensional (large value of d) dataset. Running an ML algorithm on so many features will require high computational power and will consume a lot of time. But if we have redundant features on the dataset, we can simply drop one of those features without sacrificing significant algorithmic accuracy and retaining most of the information. Hence we reduce d-dimensions into k-dimensions based dataset. **(where k < d)**. The approach is as follows:\n",
    "\n",
    "* Normalize the intial dataset\n",
    "* Find the corresponding Eigenectors and Eigenvalues from the covariance matrix or correlation matrix\n",
    "* Sort the obtained Eigenvalues in descending order\n",
    "* For k Eigenvalues from the beginning, we choose their corresponding k number of Eigenvectors\n",
    "* Create a projection matrix from these k Eigenvectors\n",
    "* Create a new k-dimensional dataset using the above created projection matrix\n",
    "\n",
    "## Deciding value of k\n",
    "We will use a measure called **Explained Variance**. The Explained Variance tells us how much information (variance) can be attributed to each of the principal components. Looking at cumulative values of Explained varinace associated with each component, we can decide which features, we can drop out safely."
   ]
  },
  {
   "cell_type": "markdown",
   "metadata": {},
   "source": [
    "### Importing Libraries"
   ]
  },
  {
   "cell_type": "code",
   "execution_count": 1,
   "metadata": {},
   "outputs": [],
   "source": [
    "import numpy as np\n",
    "import pandas as pd\n",
    "import matplotlib.pyplot as plt\n",
    "%matplotlib inline\n",
    "import sklearn"
   ]
  },
  {
   "cell_type": "markdown",
   "metadata": {},
   "source": [
    "### Dataset\n",
    "I will use the famous Iris dataset available in Scikit-learn's inbuilt package"
   ]
  },
  {
   "cell_type": "code",
   "execution_count": 2,
   "metadata": {},
   "outputs": [
    {
     "name": "stdout",
     "output_type": "stream",
     "text": [
      "(150, 4)\n"
     ]
    }
   ],
   "source": [
    "from sklearn.datasets import load_iris\n",
    "iris = load_iris()\n",
    "x = pd.DataFrame(iris['data'],columns=iris['feature_names'])\n",
    "print(x.shape)"
   ]
  },
  {
   "cell_type": "markdown",
   "metadata": {},
   "source": [
    "### Normalization of data\n",
    "Normalization is necessary, when features are measured on different scales. Otherwise the variance and covariance matrix will vary and be dominated by the feature, with high scale values."
   ]
  },
  {
   "cell_type": "code",
   "execution_count": 3,
   "metadata": {},
   "outputs": [
    {
     "name": "stdout",
     "output_type": "stream",
     "text": [
      "(150, 4)\n"
     ]
    }
   ],
   "source": [
    "from sklearn.preprocessing import StandardScaler\n",
    "x_std = StandardScaler().fit_transform(x)\n",
    "print(x_std.shape)"
   ]
  },
  {
   "cell_type": "markdown",
   "metadata": {},
   "source": [
    "### Finding Covariance Matrix"
   ]
  },
  {
   "cell_type": "code",
   "execution_count": 4,
   "metadata": {},
   "outputs": [
    {
     "name": "stdout",
     "output_type": "stream",
     "text": [
      "[[ 1.00671141 -0.11835884  0.87760447  0.82343066]\n",
      " [-0.11835884  1.00671141 -0.43131554 -0.36858315]\n",
      " [ 0.87760447 -0.43131554  1.00671141  0.96932762]\n",
      " [ 0.82343066 -0.36858315  0.96932762  1.00671141]]\n"
     ]
    }
   ],
   "source": [
    "x_cov = np.cov(x_std.T)\n",
    "print(x_cov)"
   ]
  },
  {
   "cell_type": "markdown",
   "metadata": {},
   "source": [
    "### Finding Eigenvalues & Eigenvectors"
   ]
  },
  {
   "cell_type": "code",
   "execution_count": 5,
   "metadata": {},
   "outputs": [
    {
     "name": "stdout",
     "output_type": "stream",
     "text": [
      "Eigenvalues:  [2.93808505 0.9201649  0.14774182 0.02085386]\n",
      "\n",
      "Eigenvectors:\n",
      "[[ 0.52106591 -0.37741762 -0.71956635  0.26128628]\n",
      " [-0.26934744 -0.92329566  0.24438178 -0.12350962]\n",
      " [ 0.5804131  -0.02449161  0.14212637 -0.80144925]\n",
      " [ 0.56485654 -0.06694199  0.63427274  0.52359713]]\n"
     ]
    }
   ],
   "source": [
    "Eigenvalues, Eigenvectors = np.linalg.eig(x_cov)\n",
    "print(\"Eigenvalues: \",end=\" \")\n",
    "print(Eigenvalues)\n",
    "print()\n",
    "print(\"Eigenvectors:\")\n",
    "print(Eigenvectors)"
   ]
  },
  {
   "cell_type": "markdown",
   "metadata": {},
   "source": [
    "### Sorting Eigenvectors in descending order of their Eigenvalues"
   ]
  },
  {
   "cell_type": "code",
   "execution_count": 6,
   "metadata": {},
   "outputs": [
    {
     "name": "stdout",
     "output_type": "stream",
     "text": [
      "Eigenvalues in descending order:\n",
      "2.938085050199995\n",
      "0.9201649041624864\n",
      "0.1477418210449475\n",
      "0.020853862176462696\n"
     ]
    }
   ],
   "source": [
    "# making a list of (Eigenvalue, Eigenvector) tuples\n",
    "Eigen_pairs = [(np.abs(Eigenvalues[i]), np.abs(Eigenvectors[i])) for i in range(len(Eigenvalues))]\n",
    "\n",
    "# sorting the Eigen_pair list in descending order \n",
    "Eigen_pairs.sort(key=lambda x : x[0], reverse=True)\n",
    "\n",
    "print(\"Eigenvalues in descending order:\")\n",
    "for i in range(len(Eigenvalues)):\n",
    "    print(Eigen_pairs[i][0])"
   ]
  },
  {
   "cell_type": "markdown",
   "metadata": {},
   "source": [
    "### Finding Explained Variance and Cumulative Explained Variance"
   ]
  },
  {
   "cell_type": "code",
   "execution_count": 7,
   "metadata": {},
   "outputs": [
    {
     "name": "stdout",
     "output_type": "stream",
     "text": [
      "Variance associated with each component:\n",
      "\n",
      "[72.96244541329989, 22.850761786701753, 3.668921889282865, 0.5178709107154905]\n",
      "\n",
      "Cumulative Variance as we consider each component:\n",
      "\n",
      "[ 72.96244541  95.8132072   99.48212909 100.        ]\n"
     ]
    }
   ],
   "source": [
    "total_var = np.sum(Eigenvalues)\n",
    "var = [(ele/total_var)*100 for ele in sorted(Eigenvalues,reverse=True)]\n",
    "cum_var = np.cumsum(var)\n",
    "\n",
    "print(\"Variance associated with each component:\\n\")\n",
    "print(var)\n",
    "print()\n",
    "print(\"Cumulative Variance as we consider each component:\\n\")\n",
    "print(cum_var)"
   ]
  },
  {
   "cell_type": "code",
   "execution_count": 8,
   "metadata": {},
   "outputs": [
    {
     "data": {
      "image/png": "[encoded data removed]",
      "text/plain": [
       "<Figure size 576x432 with 1 Axes>"
      ]
     },
     "metadata": {},
     "output_type": "display_data"
    }
   ],
   "source": [
    "with plt.style.context('seaborn-dark'):\n",
    "    plt.figure(figsize=(8, 6))\n",
    "\n",
    "    plt.bar(range(4), var, alpha=0.5, align='center',\n",
    "            label='Individual Explained Variance')\n",
    "    plt.step(range(4), cum_var, where='mid',\n",
    "             label='Cumulative Explained Variance')\n",
    "    plt.ylabel('Explained Variance Ratio')\n",
    "    plt.xlabel('Principal Components')\n",
    "    plt.legend(loc='best')\n",
    "    plt.tight_layout()"
   ]
  },
  {
   "cell_type": "markdown",
   "metadata": {},
   "source": [
    "As we can see, in the above 95.8% of variance is associated with first two components, we can dropout the other two features with sacrificing too much accuracy.\n",
    "\n",
    "### Creating Projection Matrix\n",
    "we will create a matrix of concatenated top k Eigenvectors"
   ]
  },
  {
   "cell_type": "code",
   "execution_count": 9,
   "metadata": {},
   "outputs": [
    {
     "name": "stdout",
     "output_type": "stream",
     "text": [
      "[[0.52106591 0.26934744]\n",
      " [0.37741762 0.92329566]\n",
      " [0.71956635 0.24438178]\n",
      " [0.26128628 0.12350962]]\n"
     ]
    }
   ],
   "source": [
    "projection_matrix = np.hstack((Eigen_pairs[0][1].reshape(4,1), Eigen_pairs[1][1].reshape(4,1)))\n",
    "print(projection_matrix)"
   ]
  },
  {
   "cell_type": "code",
   "execution_count": 10,
   "metadata": {},
   "outputs": [
    {
     "name": "stdout",
     "output_type": "stream",
     "text": [
      "(150, 2)\n"
     ]
    }
   ],
   "source": [
    "Y = x_std.dot(projection_matrix)\n",
    "print(Y.shape)"
   ]
  },
  {
   "cell_type": "markdown",
   "metadata": {},
   "source": [
    "### Plotting the iris species with 2 components"
   ]
  },
  {
   "cell_type": "code",
   "execution_count": 11,
   "metadata": {},
   "outputs": [
    {
     "data": {
      "image/png": "[encoded data removed]",
      "text/plain": [
       "<Figure size 576x576 with 1 Axes>"
      ]
     },
     "metadata": {
      "needs_background": "light"
     },
     "output_type": "display_data"
    }
   ],
   "source": [
    "plt.figure(figsize=(8, 8))\n",
    "target_names = iris['target_names']\n",
    "y = iris['target']\n",
    "for c, i, target_name in zip('rgb', [0,1,2], target_names):\n",
    "    plt.scatter(Y[y==i,0], Y[y==i,1], c=c, label=target_name)\n",
    "plt.xlabel('Principal Component 1')\n",
    "plt.ylabel('Principal Component 2')\n",
    "plt.legend()\n",
    "plt.title(\"PCA of iris Dataset\")\n",
    "plt.show()"
   ]
  }
 ],
 "metadata": {
  "kernelspec": {
   "display_name": "Python 3",
   "language": "python",
   "name": "python3"
  },
  "language_info": {
   "codemirror_mode": {
    "name": "ipython",
    "version": 3
   },
   "file_extension": ".py",
   "mimetype": "text/x-python",
   "name": "python",
   "nbconvert_exporter": "python",
   "pygments_lexer": "ipython3",
   "version": "3.8.1"
  }
 },
 "nbformat": 4,
 "nbformat_minor": 4
}
